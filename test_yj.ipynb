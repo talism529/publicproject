{
 "cells": [
  {
   "cell_type": "code",
   "execution_count": 3,
   "id": "3921f8e9",
   "metadata": {},
   "outputs": [],
   "source": [
    "import pandas as pd\n",
    "import matplotlib.pyplot as plt"
   ]
  },
  {
   "cell_type": "code",
   "execution_count": 5,
   "id": "a8eb5327",
   "metadata": {},
   "outputs": [],
   "source": [
    "df = pd.read_csv('enMix_2020_Test.csv')"
   ]
  },
  {
   "cell_type": "code",
   "execution_count": null,
   "id": "37d50c37",
   "metadata": {},
   "outputs": [],
   "source": []
  },
  {
   "cell_type": "code",
   "execution_count": 6,
   "id": "7bafd7d9",
   "metadata": {},
   "outputs": [
    {
     "data": {
      "text/html": [
       "<div>\n",
       "<style scoped>\n",
       "    .dataframe tbody tr th:only-of-type {\n",
       "        vertical-align: middle;\n",
       "    }\n",
       "\n",
       "    .dataframe tbody tr th {\n",
       "        vertical-align: top;\n",
       "    }\n",
       "\n",
       "    .dataframe thead th {\n",
       "        text-align: right;\n",
       "    }\n",
       "</style>\n",
       "<table border=\"1\" class=\"dataframe\">\n",
       "  <thead>\n",
       "    <tr style=\"text-align: right;\">\n",
       "      <th></th>\n",
       "      <th>GMT MKT Interval</th>\n",
       "      <th>Coal_CM</th>\n",
       "      <th>Diesel_CM</th>\n",
       "      <th>Hydro_CM</th>\n",
       "      <th>Natural_Gas_CM</th>\n",
       "      <th>Nuclear_CM</th>\n",
       "      <th>Solar_CM</th>\n",
       "      <th>Waste_Disposal_CM</th>\n",
       "      <th>Wind_CM</th>\n",
       "      <th>Waste_Heat_CM</th>\n",
       "      <th>Other_CM</th>\n",
       "    </tr>\n",
       "  </thead>\n",
       "  <tbody>\n",
       "    <tr>\n",
       "      <th>0</th>\n",
       "      <td>2020-01-01 06:00:00+00:00</td>\n",
       "      <td>5809.125000</td>\n",
       "      <td>0.0</td>\n",
       "      <td>807.808333</td>\n",
       "      <td>5775.308333</td>\n",
       "      <td>2033.850000</td>\n",
       "      <td>0.0</td>\n",
       "      <td>0.0</td>\n",
       "      <td>0.0</td>\n",
       "      <td>0.0</td>\n",
       "      <td>26.083333</td>\n",
       "    </tr>\n",
       "    <tr>\n",
       "      <th>1</th>\n",
       "      <td>2020-01-01 07:00:00+00:00</td>\n",
       "      <td>5575.216667</td>\n",
       "      <td>0.0</td>\n",
       "      <td>816.391667</td>\n",
       "      <td>4764.033333</td>\n",
       "      <td>2033.541667</td>\n",
       "      <td>0.0</td>\n",
       "      <td>0.0</td>\n",
       "      <td>0.0</td>\n",
       "      <td>0.0</td>\n",
       "      <td>26.100000</td>\n",
       "    </tr>\n",
       "    <tr>\n",
       "      <th>2</th>\n",
       "      <td>2020-01-01 08:00:00+00:00</td>\n",
       "      <td>5295.666667</td>\n",
       "      <td>0.0</td>\n",
       "      <td>816.000000</td>\n",
       "      <td>4181.408333</td>\n",
       "      <td>2033.591667</td>\n",
       "      <td>0.0</td>\n",
       "      <td>0.0</td>\n",
       "      <td>0.0</td>\n",
       "      <td>0.0</td>\n",
       "      <td>26.083333</td>\n",
       "    </tr>\n",
       "    <tr>\n",
       "      <th>3</th>\n",
       "      <td>2020-01-01 09:00:00+00:00</td>\n",
       "      <td>5295.166667</td>\n",
       "      <td>0.0</td>\n",
       "      <td>816.441667</td>\n",
       "      <td>4189.941667</td>\n",
       "      <td>2034.300000</td>\n",
       "      <td>0.0</td>\n",
       "      <td>0.0</td>\n",
       "      <td>0.0</td>\n",
       "      <td>0.0</td>\n",
       "      <td>26.133333</td>\n",
       "    </tr>\n",
       "    <tr>\n",
       "      <th>4</th>\n",
       "      <td>2020-01-01 10:00:00+00:00</td>\n",
       "      <td>5399.891667</td>\n",
       "      <td>0.0</td>\n",
       "      <td>797.108333</td>\n",
       "      <td>4215.291667</td>\n",
       "      <td>2033.841667</td>\n",
       "      <td>0.0</td>\n",
       "      <td>0.0</td>\n",
       "      <td>0.0</td>\n",
       "      <td>0.0</td>\n",
       "      <td>26.008333</td>\n",
       "    </tr>\n",
       "  </tbody>\n",
       "</table>\n",
       "</div>"
      ],
      "text/plain": [
       "            GMT MKT Interval      Coal_CM  Diesel_CM    Hydro_CM  \\\n",
       "0  2020-01-01 06:00:00+00:00  5809.125000        0.0  807.808333   \n",
       "1  2020-01-01 07:00:00+00:00  5575.216667        0.0  816.391667   \n",
       "2  2020-01-01 08:00:00+00:00  5295.666667        0.0  816.000000   \n",
       "3  2020-01-01 09:00:00+00:00  5295.166667        0.0  816.441667   \n",
       "4  2020-01-01 10:00:00+00:00  5399.891667        0.0  797.108333   \n",
       "\n",
       "   Natural_Gas_CM   Nuclear_CM  Solar_CM  Waste_Disposal_CM  Wind_CM  \\\n",
       "0     5775.308333  2033.850000       0.0                0.0      0.0   \n",
       "1     4764.033333  2033.541667       0.0                0.0      0.0   \n",
       "2     4181.408333  2033.591667       0.0                0.0      0.0   \n",
       "3     4189.941667  2034.300000       0.0                0.0      0.0   \n",
       "4     4215.291667  2033.841667       0.0                0.0      0.0   \n",
       "\n",
       "   Waste_Heat_CM   Other_CM  \n",
       "0            0.0  26.083333  \n",
       "1            0.0  26.100000  \n",
       "2            0.0  26.083333  \n",
       "3            0.0  26.133333  \n",
       "4            0.0  26.008333  "
      ]
     },
     "execution_count": 6,
     "metadata": {},
     "output_type": "execute_result"
    }
   ],
   "source": [
    "df.head()"
   ]
  },
  {
   "cell_type": "code",
   "execution_count": 34,
   "id": "a1ba489f",
   "metadata": {},
   "outputs": [
    {
     "data": {
      "text/plain": [
       "0       2020-01-01 06:00:00+00:00\n",
       "1       2020-01-01 07:00:00+00:00\n",
       "2       2020-01-01 08:00:00+00:00\n",
       "3       2020-01-01 09:00:00+00:00\n",
       "4       2020-01-01 10:00:00+00:00\n",
       "                  ...            \n",
       "8779    2021-01-01 01:00:00+00:00\n",
       "8780    2021-01-01 02:00:00+00:00\n",
       "8781    2021-01-01 03:00:00+00:00\n",
       "8782    2021-01-01 04:00:00+00:00\n",
       "8783    2021-01-01 05:00:00+00:00\n",
       "Name: GMT MKT Interval, Length: 8784, dtype: object"
      ]
     },
     "execution_count": 34,
     "metadata": {},
     "output_type": "execute_result"
    }
   ],
   "source": [
    "df['GMT MKT Interval']"
   ]
  },
  {
   "cell_type": "code",
   "execution_count": 41,
   "id": "85db047d",
   "metadata": {},
   "outputs": [],
   "source": [
    "df[['date', 'time']] = df['GMT MKT Interval'].str.split(' ', expand=True)"
   ]
  },
  {
   "cell_type": "code",
   "execution_count": 42,
   "id": "f2e87d3f",
   "metadata": {},
   "outputs": [
    {
     "data": {
      "text/html": [
       "<div>\n",
       "<style scoped>\n",
       "    .dataframe tbody tr th:only-of-type {\n",
       "        vertical-align: middle;\n",
       "    }\n",
       "\n",
       "    .dataframe tbody tr th {\n",
       "        vertical-align: top;\n",
       "    }\n",
       "\n",
       "    .dataframe thead th {\n",
       "        text-align: right;\n",
       "    }\n",
       "</style>\n",
       "<table border=\"1\" class=\"dataframe\">\n",
       "  <thead>\n",
       "    <tr style=\"text-align: right;\">\n",
       "      <th></th>\n",
       "      <th>GMT MKT Interval</th>\n",
       "      <th>Coal_CM</th>\n",
       "      <th>Diesel_CM</th>\n",
       "      <th>Hydro_CM</th>\n",
       "      <th>Natural_Gas_CM</th>\n",
       "      <th>Nuclear_CM</th>\n",
       "      <th>Solar_CM</th>\n",
       "      <th>Waste_Disposal_CM</th>\n",
       "      <th>Wind_CM</th>\n",
       "      <th>Waste_Heat_CM</th>\n",
       "      <th>Other_CM</th>\n",
       "      <th>date</th>\n",
       "      <th>time</th>\n",
       "    </tr>\n",
       "  </thead>\n",
       "  <tbody>\n",
       "    <tr>\n",
       "      <th>0</th>\n",
       "      <td>2020-01-01 06:00:00+00:00</td>\n",
       "      <td>5809.125000</td>\n",
       "      <td>0.0</td>\n",
       "      <td>807.808333</td>\n",
       "      <td>5775.308333</td>\n",
       "      <td>2033.850000</td>\n",
       "      <td>0.0</td>\n",
       "      <td>0.0</td>\n",
       "      <td>0.0</td>\n",
       "      <td>0.0</td>\n",
       "      <td>26.083333</td>\n",
       "      <td>2020-01-01</td>\n",
       "      <td>06:00:00+00:00</td>\n",
       "    </tr>\n",
       "    <tr>\n",
       "      <th>1</th>\n",
       "      <td>2020-01-01 07:00:00+00:00</td>\n",
       "      <td>5575.216667</td>\n",
       "      <td>0.0</td>\n",
       "      <td>816.391667</td>\n",
       "      <td>4764.033333</td>\n",
       "      <td>2033.541667</td>\n",
       "      <td>0.0</td>\n",
       "      <td>0.0</td>\n",
       "      <td>0.0</td>\n",
       "      <td>0.0</td>\n",
       "      <td>26.100000</td>\n",
       "      <td>2020-01-01</td>\n",
       "      <td>07:00:00+00:00</td>\n",
       "    </tr>\n",
       "    <tr>\n",
       "      <th>2</th>\n",
       "      <td>2020-01-01 08:00:00+00:00</td>\n",
       "      <td>5295.666667</td>\n",
       "      <td>0.0</td>\n",
       "      <td>816.000000</td>\n",
       "      <td>4181.408333</td>\n",
       "      <td>2033.591667</td>\n",
       "      <td>0.0</td>\n",
       "      <td>0.0</td>\n",
       "      <td>0.0</td>\n",
       "      <td>0.0</td>\n",
       "      <td>26.083333</td>\n",
       "      <td>2020-01-01</td>\n",
       "      <td>08:00:00+00:00</td>\n",
       "    </tr>\n",
       "    <tr>\n",
       "      <th>3</th>\n",
       "      <td>2020-01-01 09:00:00+00:00</td>\n",
       "      <td>5295.166667</td>\n",
       "      <td>0.0</td>\n",
       "      <td>816.441667</td>\n",
       "      <td>4189.941667</td>\n",
       "      <td>2034.300000</td>\n",
       "      <td>0.0</td>\n",
       "      <td>0.0</td>\n",
       "      <td>0.0</td>\n",
       "      <td>0.0</td>\n",
       "      <td>26.133333</td>\n",
       "      <td>2020-01-01</td>\n",
       "      <td>09:00:00+00:00</td>\n",
       "    </tr>\n",
       "    <tr>\n",
       "      <th>4</th>\n",
       "      <td>2020-01-01 10:00:00+00:00</td>\n",
       "      <td>5399.891667</td>\n",
       "      <td>0.0</td>\n",
       "      <td>797.108333</td>\n",
       "      <td>4215.291667</td>\n",
       "      <td>2033.841667</td>\n",
       "      <td>0.0</td>\n",
       "      <td>0.0</td>\n",
       "      <td>0.0</td>\n",
       "      <td>0.0</td>\n",
       "      <td>26.008333</td>\n",
       "      <td>2020-01-01</td>\n",
       "      <td>10:00:00+00:00</td>\n",
       "    </tr>\n",
       "  </tbody>\n",
       "</table>\n",
       "</div>"
      ],
      "text/plain": [
       "            GMT MKT Interval      Coal_CM  Diesel_CM    Hydro_CM  \\\n",
       "0  2020-01-01 06:00:00+00:00  5809.125000        0.0  807.808333   \n",
       "1  2020-01-01 07:00:00+00:00  5575.216667        0.0  816.391667   \n",
       "2  2020-01-01 08:00:00+00:00  5295.666667        0.0  816.000000   \n",
       "3  2020-01-01 09:00:00+00:00  5295.166667        0.0  816.441667   \n",
       "4  2020-01-01 10:00:00+00:00  5399.891667        0.0  797.108333   \n",
       "\n",
       "   Natural_Gas_CM   Nuclear_CM  Solar_CM  Waste_Disposal_CM  Wind_CM  \\\n",
       "0     5775.308333  2033.850000       0.0                0.0      0.0   \n",
       "1     4764.033333  2033.541667       0.0                0.0      0.0   \n",
       "2     4181.408333  2033.591667       0.0                0.0      0.0   \n",
       "3     4189.941667  2034.300000       0.0                0.0      0.0   \n",
       "4     4215.291667  2033.841667       0.0                0.0      0.0   \n",
       "\n",
       "   Waste_Heat_CM   Other_CM        date            time  \n",
       "0            0.0  26.083333  2020-01-01  06:00:00+00:00  \n",
       "1            0.0  26.100000  2020-01-01  07:00:00+00:00  \n",
       "2            0.0  26.083333  2020-01-01  08:00:00+00:00  \n",
       "3            0.0  26.133333  2020-01-01  09:00:00+00:00  \n",
       "4            0.0  26.008333  2020-01-01  10:00:00+00:00  "
      ]
     },
     "execution_count": 42,
     "metadata": {},
     "output_type": "execute_result"
    }
   ],
   "source": [
    "df.head()"
   ]
  },
  {
   "cell_type": "code",
   "execution_count": 43,
   "id": "13ba36d3",
   "metadata": {},
   "outputs": [
    {
     "data": {
      "text/plain": [
       "array(['2020-01-01', '2020-01-02', '2020-01-03', '2020-01-04',\n",
       "       '2020-01-05', '2020-01-06', '2020-01-07', '2020-01-08',\n",
       "       '2020-01-09', '2020-01-10', '2020-01-11', '2020-01-12',\n",
       "       '2020-01-13', '2020-01-14', '2020-01-15', '2020-01-16',\n",
       "       '2020-01-17', '2020-01-18', '2020-01-19', '2020-01-20',\n",
       "       '2020-01-21', '2020-01-22', '2020-01-23', '2020-01-24',\n",
       "       '2020-01-25', '2020-01-26', '2020-01-27', '2020-01-28',\n",
       "       '2020-01-29', '2020-01-30', '2020-01-31', '2020-02-01',\n",
       "       '2020-02-02', '2020-02-03', '2020-02-04', '2020-02-05',\n",
       "       '2020-02-06', '2020-02-07', '2020-02-08', '2020-02-09',\n",
       "       '2020-02-10', '2020-02-11', '2020-02-12', '2020-02-13',\n",
       "       '2020-02-14', '2020-02-15', '2020-02-16', '2020-02-17',\n",
       "       '2020-02-18', '2020-02-19', '2020-02-20', '2020-02-21',\n",
       "       '2020-02-22', '2020-02-23', '2020-02-24', '2020-02-25',\n",
       "       '2020-02-26', '2020-02-27', '2020-02-28', '2020-02-29',\n",
       "       '2020-03-01', '2020-03-02', '2020-03-03', '2020-03-04',\n",
       "       '2020-03-05', '2020-03-06', '2020-03-07', '2020-03-08',\n",
       "       '2020-03-09', '2020-03-10', '2020-03-11', '2020-03-12',\n",
       "       '2020-03-13', '2020-03-14', '2020-03-15', '2020-03-16',\n",
       "       '2020-03-17', '2020-03-18', '2020-03-19', '2020-03-20',\n",
       "       '2020-03-21', '2020-03-22', '2020-03-23', '2020-03-24',\n",
       "       '2020-03-25', '2020-03-26', '2020-03-27', '2020-03-28',\n",
       "       '2020-03-29', '2020-03-30', '2020-03-31', '2020-04-01',\n",
       "       '2020-04-02', '2020-04-03', '2020-04-04', '2020-04-05',\n",
       "       '2020-04-06', '2020-04-07', '2020-04-08', '2020-04-09',\n",
       "       '2020-04-10', '2020-04-11', '2020-04-12', '2020-04-13',\n",
       "       '2020-04-14', '2020-04-15', '2020-04-16', '2020-04-17',\n",
       "       '2020-04-18', '2020-04-19', '2020-04-20', '2020-04-21',\n",
       "       '2020-04-22', '2020-04-23', '2020-04-24', '2020-04-25',\n",
       "       '2020-04-26', '2020-04-27', '2020-04-28', '2020-04-29',\n",
       "       '2020-04-30', '2020-05-01', '2020-05-02', '2020-05-03',\n",
       "       '2020-05-04', '2020-05-05', '2020-05-06', '2020-05-07',\n",
       "       '2020-05-08', '2020-05-09', '2020-05-10', '2020-05-11',\n",
       "       '2020-05-12', '2020-05-13', '2020-05-14', '2020-05-15',\n",
       "       '2020-05-16', '2020-05-17', '2020-05-18', '2020-05-19',\n",
       "       '2020-05-20', '2020-05-21', '2020-05-22', '2020-05-23',\n",
       "       '2020-05-24', '2020-05-25', '2020-05-26', '2020-05-27',\n",
       "       '2020-05-28', '2020-05-29', '2020-05-30', '2020-05-31',\n",
       "       '2020-06-01', '2020-06-02', '2020-06-03', '2020-06-04',\n",
       "       '2020-06-05', '2020-06-06', '2020-06-07', '2020-06-08',\n",
       "       '2020-06-09', '2020-06-10', '2020-06-11', '2020-06-12',\n",
       "       '2020-06-13', '2020-06-14', '2020-06-15', '2020-06-16',\n",
       "       '2020-06-17', '2020-06-18', '2020-06-19', '2020-06-20',\n",
       "       '2020-06-21', '2020-06-22', '2020-06-23', '2020-06-24',\n",
       "       '2020-06-25', '2020-06-26', '2020-06-27', '2020-06-28',\n",
       "       '2020-06-29', '2020-06-30', '2020-07-01', '2020-07-02',\n",
       "       '2020-07-03', '2020-07-04', '2020-07-05', '2020-07-06',\n",
       "       '2020-07-07', '2020-07-08', '2020-07-09', '2020-07-10',\n",
       "       '2020-07-11', '2020-07-12', '2020-07-13', '2020-07-14',\n",
       "       '2020-07-15', '2020-07-16', '2020-07-17', '2020-07-18',\n",
       "       '2020-07-19', '2020-07-20', '2020-07-21', '2020-07-22',\n",
       "       '2020-07-23', '2020-07-24', '2020-07-25', '2020-07-26',\n",
       "       '2020-07-27', '2020-07-28', '2020-07-29', '2020-07-30',\n",
       "       '2020-07-31', '2020-08-01', '2020-08-02', '2020-08-03',\n",
       "       '2020-08-04', '2020-08-05', '2020-08-06', '2020-08-07',\n",
       "       '2020-08-08', '2020-08-09', '2020-08-10', '2020-08-11',\n",
       "       '2020-08-12', '2020-08-13', '2020-08-14', '2020-08-15',\n",
       "       '2020-08-16', '2020-08-17', '2020-08-18', '2020-08-19',\n",
       "       '2020-08-20', '2020-08-21', '2020-08-22', '2020-08-23',\n",
       "       '2020-08-24', '2020-08-25', '2020-08-26', '2020-08-27',\n",
       "       '2020-08-28', '2020-08-29', '2020-08-30', '2020-08-31',\n",
       "       '2020-09-01', '2020-09-02', '2020-09-03', '2020-09-04',\n",
       "       '2020-09-05', '2020-09-06', '2020-09-07', '2020-09-08',\n",
       "       '2020-09-09', '2020-09-10', '2020-09-11', '2020-09-12',\n",
       "       '2020-09-13', '2020-09-14', '2020-09-15', '2020-09-16',\n",
       "       '2020-09-17', '2020-09-18', '2020-09-19', '2020-09-20',\n",
       "       '2020-09-21', '2020-09-22', '2020-09-23', '2020-09-24',\n",
       "       '2020-09-25', '2020-09-26', '2020-09-27', '2020-09-28',\n",
       "       '2020-09-29', '2020-09-30', '2020-10-01', '2020-10-02',\n",
       "       '2020-10-03', '2020-10-04', '2020-10-05', '2020-10-06',\n",
       "       '2020-10-07', '2020-10-08', '2020-10-09', '2020-10-10',\n",
       "       '2020-10-11', '2020-10-12', '2020-10-13', '2020-10-14',\n",
       "       '2020-10-15', '2020-10-16', '2020-10-17', '2020-10-18',\n",
       "       '2020-10-19', '2020-10-20', '2020-10-21', '2020-10-22',\n",
       "       '2020-10-23', '2020-10-24', '2020-10-25', '2020-10-26',\n",
       "       '2020-10-27', '2020-10-28', '2020-10-29', '2020-10-30',\n",
       "       '2020-10-31', '2020-11-01', '2020-11-02', '2020-11-03',\n",
       "       '2020-11-04', '2020-11-05', '2020-11-06', '2020-11-07',\n",
       "       '2020-11-08', '2020-11-09', '2020-11-10', '2020-11-11',\n",
       "       '2020-11-12', '2020-11-13', '2020-11-14', '2020-11-15',\n",
       "       '2020-11-16', '2020-11-17', '2020-11-18', '2020-11-19',\n",
       "       '2020-11-20', '2020-11-21', '2020-11-22', '2020-11-23',\n",
       "       '2020-11-24', '2020-11-25', '2020-11-26', '2020-11-27',\n",
       "       '2020-11-28', '2020-11-29', '2020-11-30', '2020-12-01',\n",
       "       '2020-12-02', '2020-12-03', '2020-12-04', '2020-12-05',\n",
       "       '2020-12-06', '2020-12-07', '2020-12-08', '2020-12-09',\n",
       "       '2020-12-10', '2020-12-11', '2020-12-12', '2020-12-13',\n",
       "       '2020-12-14', '2020-12-15', '2020-12-16', '2020-12-17',\n",
       "       '2020-12-18', '2020-12-19', '2020-12-20', '2020-12-21',\n",
       "       '2020-12-22', '2020-12-23', '2020-12-24', '2020-12-25',\n",
       "       '2020-12-26', '2020-12-27', '2020-12-28', '2020-12-29',\n",
       "       '2020-12-30', '2020-12-31', '2021-01-01'], dtype=object)"
      ]
     },
     "execution_count": 43,
     "metadata": {},
     "output_type": "execute_result"
    }
   ],
   "source": [
    "df['date'].unique()"
   ]
  },
  {
   "cell_type": "code",
   "execution_count": 45,
   "id": "b6db2802",
   "metadata": {},
   "outputs": [],
   "source": [
    "Coal_CM_max = df.groupby('date')['Coal_CM'].max()"
   ]
  },
  {
   "cell_type": "code",
   "execution_count": 22,
   "id": "7cc6bb12",
   "metadata": {},
   "outputs": [
    {
     "data": {
      "text/plain": [
       "8684    2020-01-01\n",
       "8685    2020-01-01\n",
       "8686    2020-01-01\n",
       "8687    2020-01-01\n",
       "8688    2020-01-01\n",
       "           ...    \n",
       "8779    2020-01-01\n",
       "8780    2020-01-01\n",
       "8781    2020-01-01\n",
       "8782    2020-01-01\n",
       "8783    2020-01-01\n",
       "Name: date, Length: 100, dtype: object"
      ]
     },
     "execution_count": 22,
     "metadata": {},
     "output_type": "execute_result"
    }
   ],
   "source": [
    "df['date'].tail(100)"
   ]
  },
  {
   "cell_type": "code",
   "execution_count": 46,
   "id": "a5bef5e8",
   "metadata": {},
   "outputs": [],
   "source": [
    "Coal_CM_sum = df.groupby('date')['Coal_CM'].sum()"
   ]
  },
  {
   "cell_type": "code",
   "execution_count": 47,
   "id": "b63f61b8",
   "metadata": {},
   "outputs": [
    {
     "data": {
      "text/plain": [
       "[<matplotlib.lines.Line2D at 0x237dadefe50>]"
      ]
     },
     "execution_count": 47,
     "metadata": {},
     "output_type": "execute_result"
    },
    {
     "data": {
      "image/png": "[encoded data removed]",
      "text/plain": [
       "<Figure size 432x288 with 1 Axes>"
      ]
     },
     "metadata": {
      "needs_background": "light"
     },
     "output_type": "display_data"
    }
   ],
   "source": [
    "plt.plot(Coal_CM_sum.index, Coal_CM_max.values/ Coal_CM_sum.values)"
   ]
  },
  {
   "cell_type": "code",
   "execution_count": 48,
   "id": "79d7952d",
   "metadata": {},
   "outputs": [
    {
     "data": {
      "text/plain": [
       "66232.98333333334"
      ]
     },
     "execution_count": 48,
     "metadata": {},
     "output_type": "execute_result"
    }
   ],
   "source": [
    "Coal_CM_sum.values[-1]"
   ]
  },
  {
   "cell_type": "code",
   "execution_count": 49,
   "id": "599b89cb",
   "metadata": {},
   "outputs": [
    {
     "data": {
      "text/plain": [
       "13000.375"
      ]
     },
     "execution_count": 49,
     "metadata": {},
     "output_type": "execute_result"
    }
   ],
   "source": [
    "Coal_CM_max[-1]"
   ]
  },
  {
   "cell_type": "code",
   "execution_count": null,
   "id": "d6896af3",
   "metadata": {},
   "outputs": [],
   "source": []
  }
 ],
 "metadata": {
  "kernelspec": {
   "display_name": "Python 3.10.6 64-bit",
   "language": "python",
   "name": "python3"
  },
  "language_info": {
   "codemirror_mode": {
    "name": "ipython",
    "version": 3
   },
   "file_extension": ".py",
   "mimetype": "text/x-python",
   "name": "python",
   "nbconvert_exporter": "python",
   "pygments_lexer": "ipython3",
   "version": "3.10.6"
  },
  "vscode": {
   "interpreter": {
    "hash": "26de051ba29f2982a8de78e945f0abaf191376122a1563185a90213a26c5da77"
   }
  }
 },
 "nbformat": 4,
 "nbformat_minor": 5
}
